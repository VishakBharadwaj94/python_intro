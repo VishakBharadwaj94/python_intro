{
 "cells": [
  {
   "cell_type": "markdown",
   "metadata": {},
   "source": [
    "# File Input and Output\n",
    "### In this section we will learn to read and write to text files, handle file paths and work with CSV files.\n",
    "### Python has built in tools to work with files"
   ]
  },
  {
   "cell_type": "markdown",
   "metadata": {},
   "source": [
    "## Writing Output to a File\n",
    "### Create a new file in the current directory using the open() function, give it a title and open it in write mode\n",
    "### The using the .writelines() function we can write text into the new file and then close it\n",
    "### The new file will appear in the same folder as this program script and will contain the text passed to it."
   ]
  },
  {
   "cell_type": "code",
   "execution_count": 1,
   "metadata": {},
   "outputs": [],
   "source": [
    "output_file = open(\"hello.txt\", \"w\")\n",
    "output_file.writelines(\"Just some practice text.\")\n",
    "output_file.close()"
   ]
  },
  {
   "cell_type": "markdown",
   "metadata": {},
   "source": [
    "### One way to collect what you plan to write is in a list.\n",
    "### Run the code below and take a look at the file, what happened?"
   ]
  },
  {
   "cell_type": "code",
   "execution_count": 2,
   "metadata": {},
   "outputs": [],
   "source": [
    "lines_to_write = [\n",
    "    \"This is my file\",\n",
    "    \"\\nIt may be just a text file\",\n",
    "    \"\\nBut it is more mine than most\"\n",
    "]\n",
    "\n",
    "output_file = open(\"hello.txt\", \"w\")\n",
    "output_file.writelines(lines_to_write)\n",
    "output_file.close()"
   ]
  },
  {
   "cell_type": "markdown",
   "metadata": {},
   "source": [
    "### Opening a file write mode (\"w\") any existing content in the file is deleted.\n",
    "### In order to retain previous content use the append mode (\"a\")"
   ]
  },
  {
   "cell_type": "code",
   "execution_count": 3,
   "metadata": {},
   "outputs": [],
   "source": [
    "output_file = open(\"hello.txt\", \"a\")\n",
    "output_file.writelines(\"\\nI don't want to start again each time\")\n",
    "output_file.close()"
   ]
  },
  {
   "cell_type": "markdown",
   "metadata": {},
   "source": [
    "## Reading from a file\n",
    "### We use the file read mode (\"r\") to read a files contents as input\n",
    "### Note that each line in the files is stored as an element in a list"
   ]
  },
  {
   "cell_type": "code",
   "execution_count": 4,
   "metadata": {},
   "outputs": [
    {
     "name": "stdout",
     "output_type": "stream",
     "text": [
      "['This is my file\\n', 'It may be just a text file\\n', 'But it is more mine than most\\n', \"I don't want to start again each time\"]\n"
     ]
    }
   ],
   "source": [
    "input_file = open(\"hello.txt\", \"r\")\n",
    "print(input_file.readlines())\n",
    "input_file.close()"
   ]
  },
  {
   "cell_type": "markdown",
   "metadata": {},
   "source": [
    "### We can loop over the elements in a list and print them."
   ]
  },
  {
   "cell_type": "code",
   "execution_count": 5,
   "metadata": {},
   "outputs": [
    {
     "name": "stdout",
     "output_type": "stream",
     "text": [
      "This is my file\n",
      "\n",
      "It may be just a text file\n",
      "\n",
      "But it is more mine than most\n",
      "\n",
      "I don't want to start again each time\n"
     ]
    }
   ],
   "source": [
    "input_file = open(\"hello.txt\", \"r\")\n",
    "\n",
    "for line in input_file.readlines():\n",
    "    print(line)\n",
    "\n",
    "input_file.close()"
   ]
  },
  {
   "cell_type": "markdown",
   "metadata": {},
   "source": [
    "### We can avoid the unwanted space between the new lines by adding an empty string to the end of each element in the list when we print."
   ]
  },
  {
   "cell_type": "code",
   "execution_count": 6,
   "metadata": {},
   "outputs": [
    {
     "name": "stdout",
     "output_type": "stream",
     "text": [
      "This is my file\n",
      "It may be just a text file\n",
      "But it is more mine than most\n",
      "I don't want to start again each time"
     ]
    }
   ],
   "source": [
    "input_file = open(\"hello.txt\", \"r\")\n",
    "\n",
    "for line in input_file.readlines():\n",
    "    print(line, end = \"\")\n",
    "\n",
    "input_file.close()"
   ]
  },
  {
   "cell_type": "markdown",
   "metadata": {},
   "source": [
    "### We are also able to use a while loop, because the .readline() function will return an empty string when it reaches the end of the file, so we can use that as a condition for our while loop."
   ]
  },
  {
   "cell_type": "code",
   "execution_count": 7,
   "metadata": {},
   "outputs": [
    {
     "name": "stdout",
     "output_type": "stream",
     "text": [
      "This is my file\n",
      "It may be just a text file\n",
      "But it is more mine than most\n",
      "I don't want to start again each time"
     ]
    }
   ],
   "source": [
    "input_file = open(\"hello.txt\", \"r\")\n",
    "\n",
    "line = input_file.readline()\n",
    "while line != \"\":\n",
    "    print(line, end = \"\")\n",
    "    line = input_file.readline()\n",
    "\n",
    "input_file.close()"
   ]
  },
  {
   "cell_type": "markdown",
   "metadata": {},
   "source": [
    "### If we try and loop through the file and print it a second time, what happend?\n",
    "### This is because the position of where the file is read from does not return to the beginning unless you close and reopen the file."
   ]
  },
  {
   "cell_type": "code",
   "execution_count": 8,
   "metadata": {},
   "outputs": [
    {
     "name": "stdout",
     "output_type": "stream",
     "text": [
      "First try:\n",
      "This is my file\n",
      "It may be just a text file\n",
      "But it is more mine than most\n",
      "I don't want to start again each time\n",
      "\n",
      "Second try:\n"
     ]
    }
   ],
   "source": [
    "input_file = open(\"hello.txt\", \"r\")\n",
    "\n",
    "print(\"First try:\")\n",
    "for line in input_file.readlines():\n",
    "    print(line, end = \"\")\n",
    "\n",
    "print(\"\\n\\nSecond try:\")\n",
    "for line in input_file.readlines():\n",
    "    print(line, end = \"\")\n",
    "\n",
    "input_file.close()"
   ]
  },
  {
   "cell_type": "markdown",
   "metadata": {},
   "source": [
    "### On way to solve this issue is to first store what is returned from the .readlines() function into a variable. Another way is by using the .seek() function, which we'll see later."
   ]
  },
  {
   "cell_type": "code",
   "execution_count": 9,
   "metadata": {},
   "outputs": [
    {
     "name": "stdout",
     "output_type": "stream",
     "text": [
      "First try:\n",
      "This is my file\n",
      "It may be just a text file\n",
      "But it is more mine than most\n",
      "I don't want to start again each time\n",
      "\n",
      "Second try:\n",
      "This is my file\n",
      "It may be just a text file\n",
      "But it is more mine than most\n",
      "I don't want to start again each time"
     ]
    }
   ],
   "source": [
    "input_file = open(\"hello.txt\", \"r\")\n",
    "\n",
    "lines_to_store = input_file.readlines()\n",
    "\n",
    "print(\"First try:\")\n",
    "for line in lines_to_store:\n",
    "    print(line, end = \"\")\n",
    "\n",
    "print(\"\\n\\nSecond try:\")\n",
    "for line in lines_to_store:\n",
    "    print(line, end = \"\")\n",
    "\n",
    "input_file.close()"
   ]
  },
  {
   "cell_type": "markdown",
   "metadata": {},
   "source": [
    "## The with keyword\n",
    "### The with keyword makes you code more easy to read and understand. Also it atomatically closes the files for you without having to write the .close function."
   ]
  },
  {
   "cell_type": "code",
   "execution_count": 10,
   "metadata": {},
   "outputs": [
    {
     "name": "stdout",
     "output_type": "stream",
     "text": [
      "This is my file\n",
      "It may be just a text file\n",
      "But it is more mine than most\n",
      "I don't want to start again each time"
     ]
    }
   ],
   "source": [
    "with open(\"hello.txt\", \"r\") as input_file:\n",
    "    for line in input_file.readlines():\n",
    "        print(line, end = \"\")"
   ]
  },
  {
   "cell_type": "markdown",
   "metadata": {},
   "source": [
    "### The with keyword also lets you open multiple files at once"
   ]
  },
  {
   "cell_type": "code",
   "execution_count": 11,
   "metadata": {},
   "outputs": [],
   "source": [
    "with open(\"hello.txt\", \"r\") as source_file, open(\"goodbye.txt\", \"w\") as destination_file:\n",
    "    for line in source_file.readlines():\n",
    "        destination_file.write(line)"
   ]
  },
  {
   "cell_type": "markdown",
   "metadata": {},
   "source": [
    "## The .seek() Function\n",
    "### You can use the .seek() function to go to a specific part of the file"
   ]
  },
  {
   "cell_type": "code",
   "execution_count": 12,
   "metadata": {},
   "outputs": [
    {
     "name": "stdout",
     "output_type": "stream",
     "text": [
      "Line 0 (first line): This is my file\n",
      "\n",
      "Line 0 again: This is my file\n",
      "\n",
      "Line 1: It may be just a text file\n",
      "\n",
      "Line 0 (starting at 8th index): my file\n",
      "\n"
     ]
    }
   ],
   "source": [
    "input_file = open(\"hello.txt\", \"r\")\n",
    "print(\"Line 0 (first line):\", input_file.readline())\n",
    "\n",
    "input_file.seek(0) # Jump back to beginning\n",
    "print(\"Line 0 again:\", input_file.readline()) \n",
    "print(\"Line 1:\", input_file.readline())\n",
    "\n",
    "input_file.seek(8) # Jump to character at index 8\n",
    "print(\"Line 0 (starting at 8th index):\", input_file.readline())\n",
    "\n",
    "input_file.close()"
   ]
  },
  {
   "cell_type": "markdown",
   "metadata": {},
   "source": [
    "## Working with Paths in Python\n",
    "### In order to work with files in different directories than the one your script is saved in, you'll need to work with paths.\n",
    "## The os Module\n",
    "### This module contains many functions related to the operating system, it also helps you work with file paths and structures. Many of it's functions are similar to the terminal commands we convered earlier (such as rmdir() and mkdir() )"
   ]
  },
  {
   "cell_type": "code",
   "execution_count": 13,
   "metadata": {},
   "outputs": [],
   "source": [
    "import os\n",
    "\n",
    "os.mkdir(\"challenge_directory\")\n",
    "\n",
    "# The above line creates a new \n",
    "# directory in the directory your script is saved"
   ]
  },
  {
   "cell_type": "code",
   "execution_count": 18,
   "metadata": {},
   "outputs": [],
   "source": [
    "import os\n",
    "\n",
    "# Go to the directory in which you \n",
    "# want to create a new directory, type pwd and copy the output\n",
    "path = \"/Users/pmatthen/Documents/Programming/valley_bootcamp/File Input and Output\"\n",
    "os.mkdir(os.path.join(path, \"My Directory\"))\n",
    "\n",
    "# While you could concatenate the two strings together, \n",
    "# the os.join() function ensure the correct \n",
    "# number of forward slashes are added."
   ]
  },
  {
   "cell_type": "markdown",
   "metadata": {},
   "source": [
    "### To remove a directory, you can use the os.rmdir() function."
   ]
  },
  {
   "cell_type": "code",
   "execution_count": 19,
   "metadata": {},
   "outputs": [],
   "source": [
    "import os\n",
    "\n",
    "path = \"/Users/pmatthen/Documents/Programming/valley_bootcamp/File Input and Output\"\n",
    "os.rmdir(os.path.join(path, \"My Directory\"))"
   ]
  },
  {
   "cell_type": "markdown",
   "metadata": {},
   "source": [
    "## Modifying Files\n",
    "### In this example we will use \n",
    "### 1. The os.listdir() function to get a list of file names in the specified directory.\n",
    "### 2. The string method .endswith() to check the files extension\n",
    "### 3. The os.rename) function to rename each file\n",
    "\n",
    "### Note: Ensure you have downloaded the files for this section and shifted them to where you script will be written. Again, use the pwd command in the terminal to be able to copy the path."
   ]
  },
  {
   "cell_type": "code",
   "execution_count": 22,
   "metadata": {},
   "outputs": [],
   "source": [
    "import os\n",
    "\n",
    "path = \"/Users/pmatthen/Documents/Programming/valley_bootcamp/File Input and Output/images\"\n",
    "\n",
    "for file_name in os.listdir(path):\n",
    "    if file_name.lower().endswith(\".jpg\"):\n",
    "        full_path = os.path.join(path, file_name)\n",
    "        new_file_name = full_path[:-4] + \"_backup.jpg\"\n",
    "        os.rename(full_path, new_file_name)"
   ]
  }
 ],
 "metadata": {
  "kernelspec": {
   "display_name": "Python 3",
   "language": "python",
   "name": "python3"
  },
  "language_info": {
   "codemirror_mode": {
    "name": "ipython",
    "version": 3
   },
   "file_extension": ".py",
   "mimetype": "text/x-python",
   "name": "python",
   "nbconvert_exporter": "python",
   "pygments_lexer": "ipython3",
   "version": "3.7.3"
  }
 },
 "nbformat": 4,
 "nbformat_minor": 2
}
