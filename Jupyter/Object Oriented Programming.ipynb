{
 "cells": [
  {
   "cell_type": "markdown",
   "metadata": {},
   "source": [
    "# Object Oriented Programming\n",
    "### Object oriented programming is a method of structuring a program by bundling related properties and behaviors into individual objects.\n",
    "### For example an object could represent an email with properties like recipient list, subject, body, etc and behaviors like saving a draft, adding attachments, sending, etc."
   ]
  },
  {
   "cell_type": "markdown",
   "metadata": {},
   "source": [
    "### OOP is an approach to programming for modeling real world things as well as relation between things.\n",
    "### For example, one object could represent a company and another object could represent an employee. The company object would be made up of employee objects and the employee objects would have an attribute that points to the company object."
   ]
  },
  {
   "cell_type": "markdown",
   "metadata": {},
   "source": [
    "## Classes\n",
    "### Objects, or instances are created from classes in a similar way a building is created from a blueprint."
   ]
  },
  {
   "cell_type": "markdown",
   "metadata": {},
   "source": [
    "### Classes are made up of instructions and variables that define the attributes and behaviors of an object. Let's see how to define a class and instantiate objects from it."
   ]
  },
  {
   "cell_type": "code",
   "execution_count": null,
   "metadata": {},
   "outputs": [],
   "source": [
    "class Dog:\n",
    "    def __init__(self, name, age):\n",
    "        self.name = name\n",
    "        self.age = age"
   ]
  },
  {
   "cell_type": "markdown",
   "metadata": {},
   "source": [
    "### The .__init__() method is called whenever an object is instantiated. It define the properties, or instance attributes, that all Dog objects must have.\n",
    "### The self variable refers to the object being created, it is essentially used as a placeholder to refer to a future object."
   ]
  },
  {
   "cell_type": "markdown",
   "metadata": {},
   "source": [
    "### The values of instance attributes change from object to object. You can define class attributes that remain the same for all instances.\n",
    "### Class attributes are defined outside any method definition. They must be assigned a value, because they start the same for all objects and receive no arguments to determine what their initial value should be"
   ]
  },
  {
   "cell_type": "code",
   "execution_count": 1,
   "metadata": {},
   "outputs": [],
   "source": [
    "class Dog:\n",
    "    species = \"Canis lupus familiaris\"\n",
    "    def __init__(self, name, age):\n",
    "        self.name = name\n",
    "        self.age = age"
   ]
  },
  {
   "cell_type": "markdown",
   "metadata": {},
   "source": [
    "### Let's instantiate two Dog objects"
   ]
  },
  {
   "cell_type": "code",
   "execution_count": 2,
   "metadata": {},
   "outputs": [],
   "source": [
    "paddy = Dog(\"Paddy\", 11)\n",
    "michael = Dog(\"Michael\", 6)"
   ]
  },
  {
   "cell_type": "markdown",
   "metadata": {},
   "source": [
    "### We can see that they have the same type, yet they are not equal. This is because they are 2 distinct objects stored separately in the memory"
   ]
  },
  {
   "cell_type": "code",
   "execution_count": 5,
   "metadata": {},
   "outputs": [
    {
     "name": "stdout",
     "output_type": "stream",
     "text": [
      "<class '__main__.Dog'>\n"
     ]
    },
    {
     "data": {
      "text/plain": [
       "True"
      ]
     },
     "execution_count": 5,
     "metadata": {},
     "output_type": "execute_result"
    }
   ],
   "source": [
    "print(type(paddy))\n",
    "type(paddy) == type(michael)"
   ]
  },
  {
   "cell_type": "code",
   "execution_count": 6,
   "metadata": {},
   "outputs": [
    {
     "data": {
      "text/plain": [
       "False"
      ]
     },
     "execution_count": 6,
     "metadata": {},
     "output_type": "execute_result"
    }
   ],
   "source": [
    "paddy == michael"
   ]
  },
  {
   "cell_type": "markdown",
   "metadata": {},
   "source": [
    "### You can access the attributes of the Dog object"
   ]
  },
  {
   "cell_type": "code",
   "execution_count": 7,
   "metadata": {},
   "outputs": [
    {
     "name": "stdout",
     "output_type": "stream",
     "text": [
      "Paddy\n",
      "11\n",
      "Canis lupus familiaris\n"
     ]
    }
   ],
   "source": [
    "print(paddy.name)\n",
    "print(paddy.age)\n",
    "print(paddy.species)"
   ]
  },
  {
   "cell_type": "markdown",
   "metadata": {},
   "source": [
    "### Attributes of an object can be modified"
   ]
  },
  {
   "cell_type": "code",
   "execution_count": 8,
   "metadata": {},
   "outputs": [
    {
     "name": "stdout",
     "output_type": "stream",
     "text": [
      "12\n"
     ]
    }
   ],
   "source": [
    "paddy.age += 1\n",
    "print(paddy.age)"
   ]
  },
  {
   "cell_type": "markdown",
   "metadata": {},
   "source": [
    "## Instance Methods\n",
    "### Instance methods are functions defined inside a class. They cannot be called without reference the object itself."
   ]
  },
  {
   "cell_type": "code",
   "execution_count": 9,
   "metadata": {},
   "outputs": [],
   "source": [
    "class Dog:\n",
    "    species = \"Canis lupus familiaris\"\n",
    "    def __init__(self, name, age):\n",
    "        self.name = name\n",
    "        self.age = age\n",
    "    \n",
    "    def description(self):\n",
    "        return f\"{self.name} is {self.age} years old\"\n",
    "    \n",
    "    def speak(self, sound):\n",
    "        return f\"{self.name} says {sound}\""
   ]
  },
  {
   "cell_type": "code",
   "execution_count": 10,
   "metadata": {},
   "outputs": [],
   "source": [
    "paddy = Dog(\"Paddy\", 11)\n",
    "michael = Dog(\"Michael\", 6)"
   ]
  },
  {
   "cell_type": "markdown",
   "metadata": {},
   "source": [
    "### You can call the objects methods"
   ]
  },
  {
   "cell_type": "code",
   "execution_count": 12,
   "metadata": {},
   "outputs": [
    {
     "name": "stdout",
     "output_type": "stream",
     "text": [
      "Paddy is 11 years old\n",
      "Paddy says Woof, woof\n"
     ]
    }
   ],
   "source": [
    "print(paddy.description())\n",
    "print(paddy.speak(\"Woof, woof\"))"
   ]
  },
  {
   "cell_type": "markdown",
   "metadata": {},
   "source": [
    "## Inheritance\n",
    "### Inheritance is the process by which one class (the child class) inherits the attributes and methods of another (the parent class)\n",
    "### Child classes can override and extend the attributes and methods of parent classes. \n",
    "### Let's write some child classes that inherit, override and extend attributes and methods from the Dog class"
   ]
  },
  {
   "cell_type": "code",
   "execution_count": 13,
   "metadata": {},
   "outputs": [],
   "source": [
    "class GoldenRetriever(Dog):\n",
    "    pass # The pass keyword is often used as a placeholder"
   ]
  },
  {
   "cell_type": "code",
   "execution_count": 14,
   "metadata": {},
   "outputs": [
    {
     "name": "stdout",
     "output_type": "stream",
     "text": [
      "milo is 4 years old\n"
     ]
    }
   ],
   "source": [
    "milo = GoldenRetriever(\"milo\", 4)\n",
    "print(milo.description())"
   ]
  },
  {
   "cell_type": "markdown",
   "metadata": {},
   "source": [
    "### In order to override the .speak() method in the Dog class, we rewrite the method in the child class. here we will be specifiying a default value for the parameter sound"
   ]
  },
  {
   "cell_type": "code",
   "execution_count": 15,
   "metadata": {},
   "outputs": [
    {
     "name": "stdout",
     "output_type": "stream",
     "text": [
      "milo says Woof\n"
     ]
    }
   ],
   "source": [
    "class GoldenRetriever(Dog):\n",
    "    def speak(self, sound = \"Woof\"):\n",
    "        return f\"{self.name} says {sound}\"\n",
    "\n",
    "milo = GoldenRetriever(\"milo\", 4)\n",
    "print(milo.speak())"
   ]
  },
  {
   "cell_type": "markdown",
   "metadata": {},
   "source": [
    "### while the sound parameter has a default value, if we pass an argument for the sound parameter, it will take that on."
   ]
  },
  {
   "cell_type": "code",
   "execution_count": 16,
   "metadata": {},
   "outputs": [
    {
     "data": {
      "text/plain": [
       "'milo says Grrr'"
      ]
     },
     "execution_count": 16,
     "metadata": {},
     "output_type": "execute_result"
    }
   ],
   "source": [
    "milo.speak(\"Grrr\")"
   ]
  },
  {
   "cell_type": "markdown",
   "metadata": {},
   "source": [
    "## The super() keyword\n",
    "### If we decide to modify the .speak() method in the Dog class, because of the way we overrode the method in the GoldenRetriever class it will not reflect the change. The super() keyword allows child classes to inherit behavior better."
   ]
  },
  {
   "cell_type": "code",
   "execution_count": 17,
   "metadata": {},
   "outputs": [
    {
     "data": {
      "text/plain": [
       "'milo growls Woof'"
      ]
     },
     "execution_count": 17,
     "metadata": {},
     "output_type": "execute_result"
    }
   ],
   "source": [
    "class Dog:\n",
    "    species = \"Canis lupus familiaris\"\n",
    "    def __init__(self, name, age):\n",
    "        self.name = name\n",
    "        self.age = age\n",
    "    \n",
    "    def description(self):\n",
    "        return f\"{self.name} is {self.age} years old\"\n",
    "    \n",
    "    def speak(self, sound):\n",
    "        return f\"{self.name} growls {sound}\"\n",
    "    \n",
    "class GoldenRetriever(Dog):\n",
    "    def speak(self, sound = \"Woof\"):\n",
    "        return super().speak(sound)\n",
    "    \n",
    "milo = GoldenRetriever(\"milo\", 4)\n",
    "milo.speak()"
   ]
  },
  {
   "cell_type": "code",
   "execution_count": null,
   "metadata": {},
   "outputs": [],
   "source": []
  }
 ],
 "metadata": {
  "kernelspec": {
   "display_name": "Python 3",
   "language": "python",
   "name": "python3"
  },
  "language_info": {
   "codemirror_mode": {
    "name": "ipython",
    "version": 3
   },
   "file_extension": ".py",
   "mimetype": "text/x-python",
   "name": "python",
   "nbconvert_exporter": "python",
   "pygments_lexer": "ipython3",
   "version": "3.7.3"
  }
 },
 "nbformat": 4,
 "nbformat_minor": 2
}
