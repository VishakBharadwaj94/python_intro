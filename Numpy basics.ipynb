{
 "cells": [
  {
   "cell_type": "markdown",
   "metadata": {},
   "source": [
    "# Numpy"
   ]
  },
  {
   "cell_type": "markdown",
   "metadata": {},
   "source": [
    "When we think of data manipulation in python,the first thing we use is `numpy`. Any package/library built for data science especially for data manipulation are built upon numpy. \n",
    "\n",
    "Numpy is used widely for it's array datatypes. You can ask your self,we already have data structures in python (lists and dictionaries) then why need of arrays?\n",
    "\n",
    "It is true that the built-in python lists can do the same things what numpy arrays can do but numpy arrays are more efficient and consume less memory. These numpy arrays are homogenous in nature compared to python lists.\n",
    "\n",
    "This is just an introduction notebook. For full functions provided by numpy are found [here](https://docs.scipy.org/doc/)"
   ]
  },
  {
   "cell_type": "code",
   "execution_count": 4,
   "metadata": {},
   "outputs": [],
   "source": [
    "# importing packages\n",
    "from IPython.display import Image\n",
    "import numpy as np"
   ]
  },
  {
   "cell_type": "markdown",
   "metadata": {},
   "source": [
    "The numpy arrays are called ndarrays(n-dimentional arrays). An n-dimension array is generally used for creating a matrix or tensors, again mainly for the mathematical calculation purpose. Compare to python list base n-dimension arrays, NumPy not only saves the memory usage, it provide a significant number of additional benefits which makes it easy to mathematical calculations."
   ]
  },
  {
   "cell_type": "code",
   "execution_count": 11,
   "metadata": {},
   "outputs": [
    {
     "name": "stdout",
     "output_type": "stream",
     "text": [
      "shape of  np_array is (5,)\n",
      "Shape of the np_md_array is (1, 1, 2, 5)\n"
     ]
    }
   ],
   "source": [
    "np_array = np.array([1,2,3,4,5])\n",
    "\n",
    "\n",
    "np_md_arr = np.array ( [[[\n",
    "                        [1, 2, 3, 4, 5],\n",
    "                        [6, 7, 8, 9, 10]\n",
    "                    ] ]])\n",
    "print(\"shape of  np_array is \"+ str(np_array.shape))\n",
    "print(\"Shape of the np_md_array is \"+str(np_md_arr.shape))\n"
   ]
  },
  {
   "cell_type": "markdown",
   "metadata": {},
   "source": [
    "The numpy arrays have some properties which we can use. One of them is `shape` which provides the matrix/array size of it. Any array which has more than one dimention are matrices.\n",
    "\n",
    "In the above example,for the first array,the shape is (5,) which means that it's a one-dimentional array. In many of the cases,this creates a problem \n",
    "Eg: The transpose of the first array should be (1,5) but it will be the same. Which will create a mathematical error in our programs. \n",
    "\n",
    "To avoid it,we can **convert it into a 2-dimentional array.** For this,we have a property known as `reshape`\n"
   ]
  },
  {
   "cell_type": "code",
   "execution_count": 6,
   "metadata": {},
   "outputs": [
    {
     "name": "stdout",
     "output_type": "stream",
     "text": [
      "Shape of the np_array_reshaped is (1, 5)\n",
      "\n",
      "Transpose of the np_array is [1 2 3 4 5]\n",
      "\n",
      "Transpose of the np_array_reshaped is \n",
      "[[1]\n",
      " [2]\n",
      " [3]\n",
      " [4]\n",
      " [5]]\n",
      "\n"
     ]
    }
   ],
   "source": [
    "np_array_reshaped = np_array.reshape(1,5)\n",
    "print(\"Shape of the np_array_reshaped is \"+str(np_array_reshaped.shape)+\"\\n\")\n",
    "print(\"Transpose of the np_array is \"+str(np_array.T)+\"\\n\")\n",
    "print(\"Transpose of the np_array_reshaped is \\n\"+str(np_array_reshaped.T)+\"\\n\")"
   ]
  },
  {
   "cell_type": "markdown",
   "metadata": {},
   "source": [
    "The other useful properties are as follows(the functionality is explained in the comments "
   ]
  },
  {
   "cell_type": "code",
   "execution_count": 7,
   "metadata": {},
   "outputs": [
    {
     "data": {
      "text/plain": [
       "dtype('int64')"
      ]
     },
     "execution_count": 7,
     "metadata": {},
     "output_type": "execute_result"
    }
   ],
   "source": [
    "# To know the data type of the array\n",
    "np_array_reshaped.dtype"
   ]
  },
  {
   "cell_type": "code",
   "execution_count": 8,
   "metadata": {},
   "outputs": [
    {
     "data": {
      "text/plain": [
       "2"
      ]
     },
     "execution_count": 8,
     "metadata": {},
     "output_type": "execute_result"
    }
   ],
   "source": [
    "# To know the total dimensions in the array\n",
    "np_array_reshaped.ndim"
   ]
  },
  {
   "cell_type": "code",
   "execution_count": 9,
   "metadata": {},
   "outputs": [
    {
     "data": {
      "text/plain": [
       "5"
      ]
     },
     "execution_count": 9,
     "metadata": {},
     "output_type": "execute_result"
    }
   ],
   "source": [
    "# To know total number of elements\n",
    "np_array_reshaped.size"
   ]
  },
  {
   "cell_type": "markdown",
   "metadata": {},
   "source": [
    "### Note:\n",
    "    While creating an array,make sure to enter the data as a list. Each list indicate a dimension. "
   ]
  },
  {
   "cell_type": "code",
   "execution_count": 31,
   "metadata": {},
   "outputs": [
    {
     "data": {
      "text/plain": [
       "array([1, 3, 5, 7, 9])"
      ]
     },
     "execution_count": 31,
     "metadata": {},
     "output_type": "execute_result"
    }
   ],
   "source": [
    "# To create a sequence of numbers\n",
    "np.arange(1,10,2) # The inputs are given in this order - start,stop,step\n"
   ]
  },
  {
   "cell_type": "markdown",
   "metadata": {},
   "source": [
    "### ufunc\n",
    " The functions which **operate element wise** are known as `universal(ufunc)` functions. For example, the arithmetic operations performed in nummpy are element-wise. The arithmetic ufuncs are just basically same arithmetic operators we use in python but the interpreter will be invoking numpy's operators.\n",
    " \n",
    "The `+` sign is equivalent to `np.sum()` operator."
   ]
  },
  {
   "cell_type": "code",
   "execution_count": 12,
   "metadata": {},
   "outputs": [
    {
     "name": "stdout",
     "output_type": "stream",
     "text": [
      "First array is :[1 2 3]\n",
      "Second array is :[5 6 7]\n",
      "Addition Op: [ 6  8 10]\n",
      "Subtraction of array b with array a: [4 4 4]\n",
      "Multiplication: [ 5 12 21]\n",
      "Division: [5.         3.         2.33333333]\n"
     ]
    }
   ],
   "source": [
    "a = np.arange(1,4)\n",
    "b = np.arange(5,8)\n",
    "\n",
    "print(\"First array is :\"+str(a))\n",
    "print(\"Second array is :\"+str(b))\n",
    "\n",
    "#Addition \n",
    "print(\"Addition Op: \"+str(a+b))\n",
    "\n",
    "#Subtraction\n",
    "print(\"Subtraction of array b with array a: \"+str(b-a))\n",
    "\n",
    "# MUltiplication\n",
    "print(\"Multiplication: \"+str(a*b))\n",
    "\n",
    "#Division\n",
    "print(\"Division: \"+str(b/a))"
   ]
  },
  {
   "cell_type": "markdown",
   "metadata": {},
   "source": [
    "The other ufunc operattors are `absolute`,`trignometric functions`(sin,cos etc),`exponents` and `logarithmic `functions."
   ]
  },
  {
   "cell_type": "markdown",
   "metadata": {},
   "source": [
    "### Broadcasting Variables\n",
    "\n",
    "This is one of the properties of ufuncs. Let us see the below example."
   ]
  },
  {
   "cell_type": "code",
   "execution_count": 13,
   "metadata": {},
   "outputs": [
    {
     "name": "stdout",
     "output_type": "stream",
     "text": [
      "[11 12 13 14]\n"
     ]
    }
   ],
   "source": [
    "a = np.array([1,2,3,4])\n",
    "b = 10\n",
    "print(a+b)"
   ]
  },
  {
   "cell_type": "markdown",
   "metadata": {},
   "source": [
    "As we can see, the integer 10 is added to all the elements in the array a.\n",
    "\n",
    "In the background,what is happenning is the variable b is converted into an array of size of an array \"a\" which contains the copies of the value b. After this step, the summation looks something like this\n",
    "\n",
    "[10,10,10,10] + [1,2,3,4] = [11,12,13,14]\n",
    "\n",
    "This is the output we got in the above example.\n",
    "\n",
    "\n",
    "#### Broadcasting Rules:\n",
    "1. The first rule of broadcasting is that if all input arrays do not have the same number of dimensions, a “1” will be repeatedly prepended to the shapes of the smaller arrays until all the arrays have the same number of dimensions.\n",
    "\n",
    "2. The second rule of broadcasting ensures that arrays with a size of 1 along a particular dimension act as if they had the size of the array with the largest shape along that dimension. The value of the array element is assumed to be the same along that dimension for the “broadcast” array.\n",
    "\n",
    "For in-depth understanding and rules refer [here](https://docs.scipy.org/doc/numpy/user/basics.broadcasting.html)\n"
   ]
  },
  {
   "cell_type": "markdown",
   "metadata": {},
   "source": [
    "### Array Indexing and Slicing\n",
    "\n",
    "All the numpy arrays have the same indexing and slicing properties as python lists. \n",
    "#### One-dimensional Array"
   ]
  },
  {
   "cell_type": "code",
   "execution_count": 14,
   "metadata": {},
   "outputs": [
    {
     "name": "stdout",
     "output_type": "stream",
     "text": [
      "The whole array: [0 1 2 3 4 5 6 7 8 9]\n",
      "The 3rd element of the array is: 2\n",
      "Elements from index 2 to 5 is: [2 3 4]\n"
     ]
    }
   ],
   "source": [
    "#creating a random numpy array\n",
    "a = np.arange(10)\n",
    "print(\"The whole array: \"+str(a))\n",
    "# Indexing\n",
    "# The index of all the elements starts from 0 and ends at n-1 where n is total number of elements\n",
    "print(\"The 3rd element of the array is: \"+str(a[2]))\n",
    "\n",
    "# Slicing \n",
    "print(\"Elements from index 2 to 5 is: \"+str(a[2:5]))"
   ]
  },
  {
   "cell_type": "markdown",
   "metadata": {},
   "source": [
    "**Note** : The format for slicing is **array_name[start_index: stop index : step value]** and the resulting array will have elements from start_index to stop_index-1. In other words, the element of stop_index is excluded.\n",
    "#### Multi - dimensional Array"
   ]
  },
  {
   "cell_type": "code",
   "execution_count": 15,
   "metadata": {},
   "outputs": [
    {
     "name": "stdout",
     "output_type": "stream",
     "text": [
      "The whole array:\n",
      "[[0 1 2]\n",
      " [3 4 5]\n",
      " [6 7 8]]\n",
      "The first element of first row is: 0\n",
      "The second element of second row is: 4\n",
      "The first column of the array is: [0 3 6]\n",
      "The first row of the array is: [0 1 2]\n"
     ]
    }
   ],
   "source": [
    "#creating a multi-dim array\n",
    "a = np.arange(9).reshape(3,3)\n",
    "print(\"The whole array:\\n\" + str(a))\n",
    "\n",
    "# Indexing \n",
    "# These arrays have one index per axis/dimension. In our case, 2 indices.\n",
    "print(\"The first element of first row is: \"+str(a[0,0]))\n",
    "print(\"The second element of second row is: \"+str(a[1,1]))\n",
    "\n",
    "#Slicing\n",
    "print(\"The first column of the array is: \"+str(a[:,0]))\n",
    "print(\"The first row of the array is: \"+str(a[0,:]))"
   ]
  },
  {
   "cell_type": "markdown",
   "metadata": {},
   "source": [
    "**Note** : The slicing is a best alternative for the for loop and it's quicker than python's naive for loop."
   ]
  },
  {
   "cell_type": "markdown",
   "metadata": {},
   "source": [
    "### Array Shape Manipulation"
   ]
  },
  {
   "cell_type": "code",
   "execution_count": 17,
   "metadata": {},
   "outputs": [
    {
     "name": "stdout",
     "output_type": "stream",
     "text": [
      "The whole array:\n",
      "[[ 0  1  2  3]\n",
      " [ 4  5  6  7]\n",
      " [ 8  9 10 11]]\n",
      "Falttened version of array is: [ 0  1  2  3  4  5  6  7  8  9 10 11]\n"
     ]
    },
    {
     "ename": "ValueError",
     "evalue": "cannot reshape array of size 12 into shape (6,3)",
     "output_type": "error",
     "traceback": [
      "\u001b[0;31m--------------------------------------------------------------------\u001b[0m",
      "\u001b[0;31mValueError\u001b[0m                         Traceback (most recent call last)",
      "\u001b[0;32m<ipython-input-17-de248a21a061>\u001b[0m in \u001b[0;36m<module>\u001b[0;34m\u001b[0m\n\u001b[1;32m      6\u001b[0m \u001b[0;34m\u001b[0m\u001b[0m\n\u001b[1;32m      7\u001b[0m \u001b[0;31m# Reshaping the array\u001b[0m\u001b[0;34m\u001b[0m\u001b[0;34m\u001b[0m\u001b[0;34m\u001b[0m\u001b[0m\n\u001b[0;32m----> 8\u001b[0;31m \u001b[0mprint\u001b[0m\u001b[0;34m(\u001b[0m\u001b[0;34m\"Reshaped array: \"\u001b[0m\u001b[0;34m+\u001b[0m\u001b[0mstr\u001b[0m\u001b[0;34m(\u001b[0m\u001b[0ma\u001b[0m\u001b[0;34m.\u001b[0m\u001b[0mreshape\u001b[0m\u001b[0;34m(\u001b[0m\u001b[0;36m6\u001b[0m\u001b[0;34m,\u001b[0m\u001b[0;36m3\u001b[0m\u001b[0;34m)\u001b[0m\u001b[0;34m)\u001b[0m\u001b[0;34m)\u001b[0m\u001b[0;34m\u001b[0m\u001b[0;34m\u001b[0m\u001b[0m\n\u001b[0m\u001b[1;32m      9\u001b[0m \u001b[0;34m\u001b[0m\u001b[0m\n\u001b[1;32m     10\u001b[0m \u001b[0;31m# Transpose\u001b[0m\u001b[0;34m\u001b[0m\u001b[0;34m\u001b[0m\u001b[0;34m\u001b[0m\u001b[0m\n",
      "\u001b[0;31mValueError\u001b[0m: cannot reshape array of size 12 into shape (6,3)"
     ]
    }
   ],
   "source": [
    "a = np.arange(12).reshape(3,4)\n",
    "print(\"The whole array:\\n\" + str(a))\n",
    "\n",
    "# Flatten the array\n",
    "print(\"Falttened version of array is: \"+str(a.ravel()))\n",
    "\n",
    "# Reshaping the array\n",
    "print(\"Reshaped array: \"+str(a.reshape(6,3)))\n",
    "\n",
    "# Transpose \n",
    "print(\"Transpose of the array is: \"+str(a.T))"
   ]
  },
  {
   "cell_type": "markdown",
   "metadata": {},
   "source": [
    "**Note** : \n",
    "1. Transpose is a matrix function which interchanges the elements in such a way that all row elements become column elements and vice versa\n",
    "2. The reshape function makes a copy of the desired shape but doesn't alter the original matrix. To alter the main matrix,use `resize()` function\n",
    "\n",
    "### Aggregation functions\n",
    "The SQL users are familiar with the Aggregate functions. These are functions take whole arrays and are grouped together to form a single summary value. \n",
    "Eg. Sum,min/max,mean,std( standard deviation ) etc. These are mainly useful during data transformations."
   ]
  },
  {
   "cell_type": "code",
   "execution_count": 19,
   "metadata": {},
   "outputs": [
    {
     "name": "stdout",
     "output_type": "stream",
     "text": [
      "Array: [[6.12140872 8.57578767 8.83554113]\n",
      " [3.69835838 6.49932328 0.88526444]\n",
      " [9.78602033 7.85461281 0.08315821]]\n",
      "Summation: 52.339474971452105\n",
      "Mean of all Values: 5.815497219050234\n",
      "Min and max values in the array are: 0.08315820989519773,9.78602032866599\n"
     ]
    },
    {
     "data": {
      "text/plain": [
       "array([3.69835838, 6.49932328, 0.08315821])"
      ]
     },
     "execution_count": 19,
     "metadata": {},
     "output_type": "execute_result"
    }
   ],
   "source": [
    "a = np.random.random((3, 3))*10 # creates array size of (3,3) filled with random variables\n",
    "print(\"Array: \"+str(a))\n",
    "\n",
    "#Summation of all values \n",
    "print(\"Summation: \"+str(a.sum()))\n",
    "\n",
    "# Mean\n",
    "print(\"Mean of all Values: \"+str(a.mean()))\n",
    "\n",
    "# Min and Max \n",
    "print(\"Min and max values in the array are: \"+str(a.min())+\",\"+str(a.max()))\n",
    "\n",
    "# We can retrieve values from all rows/columns by mentioning the axis value\n",
    "a.min(axis=0) # Minimum values in each column"
   ]
  },
  {
   "cell_type": "markdown",
   "metadata": {},
   "source": [
    "**Note** : \n",
    "\n",
    "The way the axis is specified here can be confusing to users coming from other languages. The axis keyword specifies the dimension of the array that will be collapsed, rather than the dimension that will be returned. So specifying axis=0 means that the first axis will be collapsed: for two-dimensional arrays, this means that values within each column will be aggregated.\n",
    "\n",
    "#### Some of the useful Agg. Functions\n"
   ]
  },
  {
   "cell_type": "markdown",
   "metadata": {},
   "source": []
  },
  {
   "cell_type": "code",
   "execution_count": null,
   "metadata": {},
   "outputs": [],
   "source": []
  }
 ],
 "metadata": {
  "kernelspec": {
   "display_name": "Python 3",
   "language": "python",
   "name": "python3"
  },
  "language_info": {
   "codemirror_mode": {
    "name": "ipython",
    "version": 3
   },
   "file_extension": ".py",
   "mimetype": "text/x-python",
   "name": "python",
   "nbconvert_exporter": "python",
   "pygments_lexer": "ipython3",
   "version": "3.7.4"
  }
 },
 "nbformat": 4,
 "nbformat_minor": 2
}
